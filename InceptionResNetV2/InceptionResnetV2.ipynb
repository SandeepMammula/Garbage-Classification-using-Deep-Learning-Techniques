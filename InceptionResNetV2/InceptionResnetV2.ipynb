{
  "nbformat": 4,
  "nbformat_minor": 0,
  "metadata": {
    "colab": {
      "provenance": [],
      "gpuType": "T4"
    },
    "kernelspec": {
      "name": "python3",
      "display_name": "Python 3"
    },
    "language_info": {
      "name": "python"
    },
    "accelerator": "GPU"
  },
  "cells": [
    {
      "cell_type": "code",
      "execution_count": 1,
      "metadata": {
        "colab": {
          "base_uri": "https://localhost:8080/"
        },
        "id": "spaKII2wKyxV",
        "outputId": "5c513153-6873-4d4c-ba51-0423dd840c95"
      },
      "outputs": [
        {
          "output_type": "stream",
          "name": "stdout",
          "text": [
            "Tue Mar 26 10:29:29 2024       \n",
            "+---------------------------------------------------------------------------------------+\n",
            "| NVIDIA-SMI 535.104.05             Driver Version: 535.104.05   CUDA Version: 12.2     |\n",
            "|-----------------------------------------+----------------------+----------------------+\n",
            "| GPU  Name                 Persistence-M | Bus-Id        Disp.A | Volatile Uncorr. ECC |\n",
            "| Fan  Temp   Perf          Pwr:Usage/Cap |         Memory-Usage | GPU-Util  Compute M. |\n",
            "|                                         |                      |               MIG M. |\n",
            "|=========================================+======================+======================|\n",
            "|   0  Tesla T4                       Off | 00000000:00:04.0 Off |                    0 |\n",
            "| N/A   55C    P8              11W /  70W |      0MiB / 15360MiB |      0%      Default |\n",
            "|                                         |                      |                  N/A |\n",
            "+-----------------------------------------+----------------------+----------------------+\n",
            "                                                                                         \n",
            "+---------------------------------------------------------------------------------------+\n",
            "| Processes:                                                                            |\n",
            "|  GPU   GI   CI        PID   Type   Process name                            GPU Memory |\n",
            "|        ID   ID                                                             Usage      |\n",
            "|=======================================================================================|\n",
            "|  No running processes found                                                           |\n",
            "+---------------------------------------------------------------------------------------+\n"
          ]
        }
      ],
      "source": [
        "!nvidia-smi"
      ]
    },
    {
      "cell_type": "code",
      "source": [
        "from google.colab import drive\n",
        "\n",
        "drive.mount(\"/content/drive/\")"
      ],
      "metadata": {
        "colab": {
          "base_uri": "https://localhost:8080/"
        },
        "id": "AuOBaUPwK8Az",
        "outputId": "a9d1fa28-1d41-47b2-d37e-2498a1b44be7"
      },
      "execution_count": 2,
      "outputs": [
        {
          "output_type": "stream",
          "name": "stdout",
          "text": [
            "Mounted at /content/drive/\n"
          ]
        }
      ]
    },
    {
      "cell_type": "code",
      "source": [
        "import tensorflow as tf\n",
        "from keras.layers import Input, Lambda, Dense, Flatten\n",
        "from keras.models import Model\n",
        "from keras.preprocessing import image\n",
        "from keras.preprocessing.image import ImageDataGenerator\n",
        "from keras.models import Sequential\n",
        "import numpy as np\n",
        "from glob import glob\n",
        "import matplotlib.pyplot as plt\n",
        "tf.keras.applications.inception_resnet_v2.preprocess_input"
      ],
      "metadata": {
        "colab": {
          "base_uri": "https://localhost:8080/",
          "height": 186
        },
        "id": "WskEKZv3K8Db",
        "outputId": "48a60406-8374-422a-8774-d303edc057e5"
      },
      "execution_count": 3,
      "outputs": [
        {
          "output_type": "execute_result",
          "data": {
            "text/plain": [
              "<function keras.src.applications.inception_resnet_v2.preprocess_input(x, data_format=None)>"
            ],
            "text/html": [
              "<div style=\"max-width:800px; border: 1px solid var(--colab-border-color);\"><style>\n",
              "      pre.function-repr-contents {\n",
              "        overflow-x: auto;\n",
              "        padding: 8px 12px;\n",
              "        max-height: 500px;\n",
              "      }\n",
              "\n",
              "      pre.function-repr-contents.function-repr-contents-collapsed {\n",
              "        cursor: pointer;\n",
              "        max-height: 100px;\n",
              "      }\n",
              "    </style>\n",
              "    <pre style=\"white-space: initial; background:\n",
              "         var(--colab-secondary-surface-color); padding: 8px 12px;\n",
              "         border-bottom: 1px solid var(--colab-border-color);\"><b>keras.src.applications.inception_resnet_v2.preprocess_input</b><br/>def preprocess_input(x, data_format=None)</pre><pre class=\"function-repr-contents function-repr-contents-collapsed\" style=\"\"><a class=\"filepath\" style=\"display:none\" href=\"#\">/usr/local/lib/python3.10/dist-packages/keras/src/applications/inception_resnet_v2.py</a>Preprocesses a tensor or Numpy array encoding a batch of images.\n",
              "\n",
              "Usage example with `applications.MobileNet`:\n",
              "\n",
              "```python\n",
              "i = tf.keras.layers.Input([None, None, 3], dtype = tf.uint8)\n",
              "x = tf.cast(i, tf.float32)\n",
              "x = tf.keras.applications.mobilenet.preprocess_input(x)\n",
              "core = tf.keras.applications.MobileNet()\n",
              "x = core(x)\n",
              "model = tf.keras.Model(inputs=[i], outputs=[x])\n",
              "\n",
              "image = tf.image.decode_png(tf.io.read_file(&#x27;file.png&#x27;))\n",
              "result = model(image)\n",
              "```\n",
              "\n",
              "Args:\n",
              "  x: A floating point `numpy.array` or a `tf.Tensor`, 3D or 4D with 3 color\n",
              "    channels, with values in the range [0, 255].\n",
              "    The preprocessed data are written over the input data\n",
              "    if the data types are compatible. To avoid this\n",
              "    behaviour, `numpy.copy(x)` can be used.\n",
              "  data_format: Optional data format of the image tensor/array. None, means\n",
              "    the global setting `tf.keras.backend.image_data_format()` is used\n",
              "    (unless you changed it, it uses &quot;channels_last&quot;).\n",
              "    Defaults to `None`.\n",
              "\n",
              "Returns:\n",
              "    Preprocessed `numpy.array` or a `tf.Tensor` with type `float32`.\n",
              "    \n",
              "    The inputs pixel values are scaled between -1 and 1, sample-wise.\n",
              "\n",
              "Raises:\n",
              "    \n",
              "  ValueError: In case of unknown `data_format` argument.</pre>\n",
              "      <script>\n",
              "      if (google.colab.kernel.accessAllowed && google.colab.files && google.colab.files.view) {\n",
              "        for (const element of document.querySelectorAll('.filepath')) {\n",
              "          element.style.display = 'block'\n",
              "          element.onclick = (event) => {\n",
              "            event.preventDefault();\n",
              "            event.stopPropagation();\n",
              "            google.colab.files.view(element.textContent, 421);\n",
              "          };\n",
              "        }\n",
              "      }\n",
              "      for (const element of document.querySelectorAll('.function-repr-contents')) {\n",
              "        element.onclick = (event) => {\n",
              "          event.preventDefault();\n",
              "          event.stopPropagation();\n",
              "          element.classList.toggle('function-repr-contents-collapsed');\n",
              "        };\n",
              "      }\n",
              "      </script>\n",
              "      </div>"
            ]
          },
          "metadata": {},
          "execution_count": 3
        }
      ]
    },
    {
      "cell_type": "code",
      "source": [
        "base_model = tf.keras.applications.InceptionResNetV2(\n",
        "    include_top=False,\n",
        "    weights=\"imagenet\",\n",
        "    input_tensor=None,\n",
        "    input_shape=None,\n",
        "    pooling=None,\n",
        "    classes=6,\n",
        "    classifier_activation=\"softmax\",\n",
        ")"
      ],
      "metadata": {
        "colab": {
          "base_uri": "https://localhost:8080/"
        },
        "id": "l2EOXCEHLBh6",
        "outputId": "abff82dd-9ba8-44e0-b9a5-1eed870fc742"
      },
      "execution_count": 4,
      "outputs": [
        {
          "output_type": "stream",
          "name": "stdout",
          "text": [
            "Downloading data from https://storage.googleapis.com/tensorflow/keras-applications/inception_resnet_v2/inception_resnet_v2_weights_tf_dim_ordering_tf_kernels_notop.h5\n",
            "219055592/219055592 [==============================] - 1s 0us/step\n"
          ]
        }
      ]
    },
    {
      "cell_type": "code",
      "source": [
        "dataset_train = '/content/drive/MyDrive/garbage_dataset/garbage_dataset/train'\n",
        "dataset_test = '/content/drive/MyDrive/garbage_dataset/garbage_dataset/test'"
      ],
      "metadata": {
        "id": "cFafAzZEK8Fn"
      },
      "execution_count": 5,
      "outputs": []
    },
    {
      "cell_type": "code",
      "source": [
        "import os\n",
        "\n",
        "# Function to count files in a directory\n",
        "def count_files(directory):\n",
        "    return len([filename for filename in os.listdir(directory) if os.path.isfile(os.path.join(directory, filename))])\n",
        "\n",
        "# Iterate over each folder and count the number of images\n",
        "image_counts = {}\n",
        "for folder in os.listdir(dataset_train):\n",
        "    folder_path = os.path.join(dataset_train, folder)\n",
        "    if os.path.isdir(folder_path):\n",
        "        image_counts[folder] = count_files(folder_path)\n",
        "\n",
        "# Print the results\n",
        "print(\"No. of images in each folder for training-->\")\n",
        "total_count = 0\n",
        "for folder, count in image_counts.items():\n",
        "    print(f\"{folder}: {count} images\")\n",
        "    total_count += count\n",
        "print('Length of training dataset: {}' .format(total_count))\n",
        "\n",
        "# Function to count files in a directory\n",
        "def count_files(directory):\n",
        "    return len([filename for filename in os.listdir(directory) if os.path.isfile(os.path.join(directory, filename))])\n",
        "\n",
        "# Iterate over each folder and count the number of images\n",
        "image_counts = {}\n",
        "for folder in os.listdir(dataset_test):\n",
        "    folder_path = os.path.join(dataset_test, folder)\n",
        "    if os.path.isdir(folder_path):\n",
        "        image_counts[folder] = count_files(folder_path)\n",
        "\n",
        "# Print the results\n",
        "print(\"No. of images in each folder for testing-->\")\n",
        "total_count = 0\n",
        "for folder, count in image_counts.items():\n",
        "    print(f\"{folder}: {count} images\")\n",
        "    total_count += count\n",
        "print('Length of test dataset: {}' .format(total_count))"
      ],
      "metadata": {
        "colab": {
          "base_uri": "https://localhost:8080/"
        },
        "id": "09OOXYN_K8Kr",
        "outputId": "daad4cb9-1757-4aea-b949-6027ac5b292f"
      },
      "execution_count": 6,
      "outputs": [
        {
          "output_type": "stream",
          "name": "stdout",
          "text": [
            "No. of images in each folder for training-->\n",
            "trash: 91 images\n",
            "glass: 354 images\n",
            "plastic: 347 images\n",
            "metal: 286 images\n",
            "paper: 403 images\n",
            "cardboard: 287 images\n",
            "Length of training dataset: 1768\n",
            "No. of images in each folder for testing-->\n",
            "paper: 108 images\n",
            "trash: 29 images\n",
            "metal: 68 images\n",
            "plastic: 74 images\n",
            "glass: 82 images\n",
            "cardboard: 70 images\n",
            "Length of test dataset: 431\n"
          ]
        }
      ]
    },
    {
      "cell_type": "code",
      "source": [
        "from keras.applications.inception_v3 import InceptionV3\n",
        "from keras.models import Model\n",
        "from keras.layers import Dense, GlobalAveragePooling2D"
      ],
      "metadata": {
        "id": "N0cXhP2dK8NJ"
      },
      "execution_count": 7,
      "outputs": []
    },
    {
      "cell_type": "code",
      "source": [
        "x = base_model.output\n",
        "x = GlobalAveragePooling2D()(x)\n",
        "x = Dense(1024, activation='relu')(x)\n",
        "predictions = Dense(6, activation='softmax')(x)"
      ],
      "metadata": {
        "id": "mV7TetSQK8Qm"
      },
      "execution_count": 8,
      "outputs": []
    },
    {
      "cell_type": "code",
      "source": [
        "model = Model(inputs=base_model.input, outputs=predictions)"
      ],
      "metadata": {
        "id": "WApPRw4VK8UT"
      },
      "execution_count": 9,
      "outputs": []
    },
    {
      "cell_type": "code",
      "source": [
        "for layer in base_model.layers:\n",
        "    layer.trainable = False"
      ],
      "metadata": {
        "id": "zNtuFRboK8XX"
      },
      "execution_count": 10,
      "outputs": []
    },
    {
      "cell_type": "code",
      "source": [
        "model.compile(optimizer='rmsprop', loss='categorical_crossentropy', metrics=['accuracy'])"
      ],
      "metadata": {
        "id": "pmTwmQQdK8Zt"
      },
      "execution_count": 11,
      "outputs": []
    },
    {
      "cell_type": "code",
      "source": [
        "from keras.preprocessing.image import ImageDataGenerator\n",
        "\n",
        "# ImageDataGenerator for training data with augmentation\n",
        "train_datagen = ImageDataGenerator(\n",
        "    rescale=1./255,\n",
        "    rotation_range=20,\n",
        "    width_shift_range=0.1,\n",
        "    height_shift_range=0.1,\n",
        "    brightness_range=[0.2, 0.5],\n",
        "    shear_range=0.1,\n",
        "    zoom_range=0.1,\n",
        "    horizontal_flip=True,\n",
        "    vertical_flip=True\n",
        ")\n",
        "\n",
        "# ImageDataGenerator for test data (only rescaling)\n",
        "test_datagen = ImageDataGenerator(rescale=1./255)\n",
        "\n",
        "# Flow training images in batches using train_datagen generator\n",
        "train_generator = train_datagen.flow_from_directory(\n",
        "    dataset_train,\n",
        "    target_size=(224, 224),\n",
        "    batch_size=5,\n",
        "    class_mode='categorical',\n",
        "    shuffle=True\n",
        ")\n",
        "\n",
        "# Flow validation images in batches using test_datagen generator\n",
        "test_generator = test_datagen.flow_from_directory(\n",
        "    dataset_test,\n",
        "    target_size=(224, 224),\n",
        "    batch_size=5,\n",
        "    class_mode='categorical',\n",
        "    shuffle=False\n",
        ")\n"
      ],
      "metadata": {
        "colab": {
          "base_uri": "https://localhost:8080/"
        },
        "id": "pRsN6l8lK8cp",
        "outputId": "bfafc1e2-e6e7-43c6-ce37-9c75b1afe863"
      },
      "execution_count": 12,
      "outputs": [
        {
          "output_type": "stream",
          "name": "stdout",
          "text": [
            "Found 1768 images belonging to 6 classes.\n",
            "Found 431 images belonging to 6 classes.\n"
          ]
        }
      ]
    },
    {
      "cell_type": "code",
      "source": [
        "# Load the TensorBoard notebook extension\n",
        "%load_ext tensorboard"
      ],
      "metadata": {
        "id": "gQw9AoeuK8fE"
      },
      "execution_count": 13,
      "outputs": []
    },
    {
      "cell_type": "code",
      "source": [
        "import subprocess\n",
        "\n",
        "# Execute shell command to remove the ./logs/ directory\n",
        "subprocess.run([\"rm\", \"-rf\", \"./logs/\"])"
      ],
      "metadata": {
        "colab": {
          "base_uri": "https://localhost:8080/"
        },
        "id": "vw8xvVTHK8h0",
        "outputId": "184a49aa-6ca6-4476-bd90-d7f18e0bcf7f"
      },
      "execution_count": 14,
      "outputs": [
        {
          "output_type": "execute_result",
          "data": {
            "text/plain": [
              "CompletedProcess(args=['rm', '-rf', './logs/'], returncode=0)"
            ]
          },
          "metadata": {},
          "execution_count": 14
        }
      ]
    },
    {
      "cell_type": "code",
      "source": [
        "from datetime import datetime\n",
        "from tensorflow.keras.callbacks import TensorBoard, ModelCheckpoint\n",
        "\n",
        "start = datetime.now()\n",
        "\n",
        "# Define TensorBoard callback\n",
        "log_dir = \"logs/fit/\" + datetime.now().strftime(\"%Y%m%d-%H%M%S\")\n",
        "tensorboard_callback = tf.keras.callbacks.TensorBoard(log_dir=log_dir, histogram_freq=1)\n",
        "\n",
        "# Define ModelCheckpoint callback to save the best model based on training loss and accuracy\n",
        "checkpoint_callback = ModelCheckpoint(filepath=\"./best_model.keras\",\n",
        "                                      monitor='accuracy',  # Monitor training loss\n",
        "                                      save_best_only=True,  # Save the best model\n",
        "                                      mode='max',  # Save the model with minimum loss\n",
        "                                      verbose=1)  # Show progress\n",
        "\n",
        "history = model.fit(\n",
        "    train_generator,\n",
        "    epochs=100,\n",
        "    steps_per_epoch=10,\n",
        "    validation_data=test_generator,\n",
        "    callbacks=[tensorboard_callback, checkpoint_callback]\n",
        ")\n",
        "\n",
        "duration = datetime.now() - start\n",
        "print(\"Training completed in time: \", duration)\n"
      ],
      "metadata": {
        "colab": {
          "base_uri": "https://localhost:8080/"
        },
        "id": "_HmxryjAK8ki",
        "outputId": "a990660d-793b-407c-d1c2-f30b9763fe27"
      },
      "execution_count": 15,
      "outputs": [
        {
          "output_type": "stream",
          "name": "stdout",
          "text": [
            "Epoch 1/100\n",
            "10/10 [==============================] - ETA: 0s - loss: 7.5049 - accuracy: 0.1800\n",
            "Epoch 1: accuracy improved from -inf to 0.18000, saving model to ./best_model.keras\n",
            "10/10 [==============================] - 130s 13s/step - loss: 7.5049 - accuracy: 0.1800 - val_loss: 2.9648 - val_accuracy: 0.3991\n",
            "Epoch 2/100\n",
            "10/10 [==============================] - ETA: 0s - loss: 2.0893 - accuracy: 0.4000\n",
            "Epoch 2: accuracy improved from 0.18000 to 0.40000, saving model to ./best_model.keras\n",
            "10/10 [==============================] - 33s 4s/step - loss: 2.0893 - accuracy: 0.4000 - val_loss: 1.9004 - val_accuracy: 0.4826\n",
            "Epoch 3/100\n",
            "10/10 [==============================] - ETA: 0s - loss: 2.0945 - accuracy: 0.4200\n",
            "Epoch 3: accuracy improved from 0.40000 to 0.42000, saving model to ./best_model.keras\n",
            "10/10 [==============================] - 32s 3s/step - loss: 2.0945 - accuracy: 0.4200 - val_loss: 2.8972 - val_accuracy: 0.3480\n",
            "Epoch 4/100\n",
            "10/10 [==============================] - ETA: 0s - loss: 1.9080 - accuracy: 0.4600\n",
            "Epoch 4: accuracy improved from 0.42000 to 0.46000, saving model to ./best_model.keras\n",
            "10/10 [==============================] - 31s 3s/step - loss: 1.9080 - accuracy: 0.4600 - val_loss: 1.4143 - val_accuracy: 0.5800\n",
            "Epoch 5/100\n",
            "10/10 [==============================] - ETA: 0s - loss: 1.1882 - accuracy: 0.6000\n",
            "Epoch 5: accuracy improved from 0.46000 to 0.60000, saving model to ./best_model.keras\n",
            "10/10 [==============================] - 34s 4s/step - loss: 1.1882 - accuracy: 0.6000 - val_loss: 1.1090 - val_accuracy: 0.6218\n",
            "Epoch 6/100\n",
            "10/10 [==============================] - ETA: 0s - loss: 0.9177 - accuracy: 0.7600\n",
            "Epoch 6: accuracy improved from 0.60000 to 0.76000, saving model to ./best_model.keras\n",
            "10/10 [==============================] - 36s 4s/step - loss: 0.9177 - accuracy: 0.7600 - val_loss: 0.9189 - val_accuracy: 0.6891\n",
            "Epoch 7/100\n",
            "10/10 [==============================] - ETA: 0s - loss: 1.4110 - accuracy: 0.5800\n",
            "Epoch 7: accuracy did not improve from 0.76000\n",
            "10/10 [==============================] - 30s 3s/step - loss: 1.4110 - accuracy: 0.5800 - val_loss: 1.2883 - val_accuracy: 0.5963\n",
            "Epoch 8/100\n",
            "10/10 [==============================] - ETA: 0s - loss: 1.1278 - accuracy: 0.6800\n",
            "Epoch 8: accuracy did not improve from 0.76000\n",
            "10/10 [==============================] - 28s 3s/step - loss: 1.1278 - accuracy: 0.6800 - val_loss: 1.4287 - val_accuracy: 0.5777\n",
            "Epoch 9/100\n",
            "10/10 [==============================] - ETA: 0s - loss: 0.9981 - accuracy: 0.6600\n",
            "Epoch 9: accuracy did not improve from 0.76000\n",
            "10/10 [==============================] - 28s 3s/step - loss: 0.9981 - accuracy: 0.6600 - val_loss: 0.9608 - val_accuracy: 0.6891\n",
            "Epoch 10/100\n",
            "10/10 [==============================] - ETA: 0s - loss: 1.4238 - accuracy: 0.6400\n",
            "Epoch 10: accuracy did not improve from 0.76000\n",
            "10/10 [==============================] - 29s 3s/step - loss: 1.4238 - accuracy: 0.6400 - val_loss: 1.0300 - val_accuracy: 0.6636\n",
            "Epoch 11/100\n",
            "10/10 [==============================] - ETA: 0s - loss: 1.1605 - accuracy: 0.6200\n",
            "Epoch 11: accuracy did not improve from 0.76000\n",
            "10/10 [==============================] - 28s 3s/step - loss: 1.1605 - accuracy: 0.6200 - val_loss: 1.8675 - val_accuracy: 0.5128\n",
            "Epoch 12/100\n",
            "10/10 [==============================] - ETA: 0s - loss: 1.4619 - accuracy: 0.5800\n",
            "Epoch 12: accuracy did not improve from 0.76000\n",
            "10/10 [==============================] - 28s 3s/step - loss: 1.4619 - accuracy: 0.5800 - val_loss: 1.3293 - val_accuracy: 0.5847\n",
            "Epoch 13/100\n",
            "10/10 [==============================] - ETA: 0s - loss: 1.1809 - accuracy: 0.5600\n",
            "Epoch 13: accuracy did not improve from 0.76000\n",
            "10/10 [==============================] - 26s 3s/step - loss: 1.1809 - accuracy: 0.5600 - val_loss: 0.9527 - val_accuracy: 0.6914\n",
            "Epoch 14/100\n",
            "10/10 [==============================] - ETA: 0s - loss: 1.0078 - accuracy: 0.6800\n",
            "Epoch 14: accuracy did not improve from 0.76000\n",
            "10/10 [==============================] - 26s 3s/step - loss: 1.0078 - accuracy: 0.6800 - val_loss: 1.0291 - val_accuracy: 0.6543\n",
            "Epoch 15/100\n",
            "10/10 [==============================] - ETA: 0s - loss: 1.0822 - accuracy: 0.5800\n",
            "Epoch 15: accuracy did not improve from 0.76000\n",
            "10/10 [==============================] - 27s 3s/step - loss: 1.0822 - accuracy: 0.5800 - val_loss: 0.9975 - val_accuracy: 0.6682\n",
            "Epoch 16/100\n",
            "10/10 [==============================] - ETA: 0s - loss: 1.1585 - accuracy: 0.6800\n",
            "Epoch 16: accuracy did not improve from 0.76000\n",
            "10/10 [==============================] - 28s 3s/step - loss: 1.1585 - accuracy: 0.6800 - val_loss: 1.2056 - val_accuracy: 0.5870\n",
            "Epoch 17/100\n",
            "10/10 [==============================] - ETA: 0s - loss: 1.2233 - accuracy: 0.6200\n",
            "Epoch 17: accuracy did not improve from 0.76000\n",
            "10/10 [==============================] - 27s 3s/step - loss: 1.2233 - accuracy: 0.6200 - val_loss: 1.4378 - val_accuracy: 0.5429\n",
            "Epoch 18/100\n",
            "10/10 [==============================] - ETA: 0s - loss: 0.9373 - accuracy: 0.6458\n",
            "Epoch 18: accuracy did not improve from 0.76000\n",
            "10/10 [==============================] - 26s 3s/step - loss: 0.9373 - accuracy: 0.6458 - val_loss: 1.0097 - val_accuracy: 0.6520\n",
            "Epoch 19/100\n",
            "10/10 [==============================] - ETA: 0s - loss: 0.9292 - accuracy: 0.6800\n",
            "Epoch 19: accuracy did not improve from 0.76000\n",
            "10/10 [==============================] - 27s 3s/step - loss: 0.9292 - accuracy: 0.6800 - val_loss: 1.2818 - val_accuracy: 0.6265\n",
            "Epoch 20/100\n",
            "10/10 [==============================] - ETA: 0s - loss: 0.7977 - accuracy: 0.7400\n",
            "Epoch 20: accuracy did not improve from 0.76000\n",
            "10/10 [==============================] - 26s 3s/step - loss: 0.7977 - accuracy: 0.7400 - val_loss: 0.9408 - val_accuracy: 0.7030\n",
            "Epoch 21/100\n",
            "10/10 [==============================] - ETA: 0s - loss: 1.0728 - accuracy: 0.6000\n",
            "Epoch 21: accuracy did not improve from 0.76000\n",
            "10/10 [==============================] - 26s 3s/step - loss: 1.0728 - accuracy: 0.6000 - val_loss: 1.2318 - val_accuracy: 0.5777\n",
            "Epoch 22/100\n",
            "10/10 [==============================] - ETA: 0s - loss: 1.1167 - accuracy: 0.6600\n",
            "Epoch 22: accuracy did not improve from 0.76000\n",
            "10/10 [==============================] - 25s 3s/step - loss: 1.1167 - accuracy: 0.6600 - val_loss: 0.8830 - val_accuracy: 0.6705\n",
            "Epoch 23/100\n",
            "10/10 [==============================] - ETA: 0s - loss: 0.8646 - accuracy: 0.6600\n",
            "Epoch 23: accuracy did not improve from 0.76000\n",
            "10/10 [==============================] - 27s 3s/step - loss: 0.8646 - accuracy: 0.6600 - val_loss: 0.9323 - val_accuracy: 0.6914\n",
            "Epoch 24/100\n",
            "10/10 [==============================] - ETA: 0s - loss: 0.9910 - accuracy: 0.6200\n",
            "Epoch 24: accuracy did not improve from 0.76000\n",
            "10/10 [==============================] - 26s 3s/step - loss: 0.9910 - accuracy: 0.6200 - val_loss: 1.1478 - val_accuracy: 0.6450\n",
            "Epoch 25/100\n",
            "10/10 [==============================] - ETA: 0s - loss: 0.9062 - accuracy: 0.6667\n",
            "Epoch 25: accuracy did not improve from 0.76000\n",
            "10/10 [==============================] - 26s 3s/step - loss: 0.9062 - accuracy: 0.6667 - val_loss: 1.9040 - val_accuracy: 0.5638\n",
            "Epoch 26/100\n",
            "10/10 [==============================] - ETA: 0s - loss: 1.5719 - accuracy: 0.4600\n",
            "Epoch 26: accuracy did not improve from 0.76000\n",
            "10/10 [==============================] - 26s 3s/step - loss: 1.5719 - accuracy: 0.4600 - val_loss: 0.8569 - val_accuracy: 0.6914\n",
            "Epoch 27/100\n",
            "10/10 [==============================] - ETA: 0s - loss: 1.1584 - accuracy: 0.5400\n",
            "Epoch 27: accuracy did not improve from 0.76000\n",
            "10/10 [==============================] - 26s 3s/step - loss: 1.1584 - accuracy: 0.5400 - val_loss: 1.0935 - val_accuracy: 0.6381\n",
            "Epoch 28/100\n",
            "10/10 [==============================] - ETA: 0s - loss: 0.9567 - accuracy: 0.6000\n",
            "Epoch 28: accuracy did not improve from 0.76000\n",
            "10/10 [==============================] - 26s 3s/step - loss: 0.9567 - accuracy: 0.6000 - val_loss: 0.8462 - val_accuracy: 0.7077\n",
            "Epoch 29/100\n",
            "10/10 [==============================] - ETA: 0s - loss: 1.0773 - accuracy: 0.6800\n",
            "Epoch 29: accuracy did not improve from 0.76000\n",
            "10/10 [==============================] - 24s 3s/step - loss: 1.0773 - accuracy: 0.6800 - val_loss: 1.1167 - val_accuracy: 0.6172\n",
            "Epoch 30/100\n",
            "10/10 [==============================] - ETA: 0s - loss: 1.0636 - accuracy: 0.6400\n",
            "Epoch 30: accuracy did not improve from 0.76000\n",
            "10/10 [==============================] - 25s 3s/step - loss: 1.0636 - accuracy: 0.6400 - val_loss: 1.0721 - val_accuracy: 0.6427\n",
            "Epoch 31/100\n",
            "10/10 [==============================] - ETA: 0s - loss: 0.8009 - accuracy: 0.7292\n",
            "Epoch 31: accuracy did not improve from 0.76000\n",
            "10/10 [==============================] - 24s 3s/step - loss: 0.8009 - accuracy: 0.7292 - val_loss: 1.2144 - val_accuracy: 0.6404\n",
            "Epoch 32/100\n",
            "10/10 [==============================] - ETA: 0s - loss: 0.8082 - accuracy: 0.7200\n",
            "Epoch 32: accuracy did not improve from 0.76000\n",
            "10/10 [==============================] - 25s 3s/step - loss: 0.8082 - accuracy: 0.7200 - val_loss: 0.8298 - val_accuracy: 0.7123\n",
            "Epoch 33/100\n",
            "10/10 [==============================] - ETA: 0s - loss: 1.0367 - accuracy: 0.6400\n",
            "Epoch 33: accuracy did not improve from 0.76000\n",
            "10/10 [==============================] - 25s 3s/step - loss: 1.0367 - accuracy: 0.6400 - val_loss: 1.3399 - val_accuracy: 0.6009\n",
            "Epoch 34/100\n",
            "10/10 [==============================] - ETA: 0s - loss: 0.8954 - accuracy: 0.6200\n",
            "Epoch 34: accuracy did not improve from 0.76000\n",
            "10/10 [==============================] - 25s 3s/step - loss: 0.8954 - accuracy: 0.6200 - val_loss: 1.1163 - val_accuracy: 0.6172\n",
            "Epoch 35/100\n",
            "10/10 [==============================] - ETA: 0s - loss: 1.0493 - accuracy: 0.7000\n",
            "Epoch 35: accuracy did not improve from 0.76000\n",
            "10/10 [==============================] - 24s 3s/step - loss: 1.0493 - accuracy: 0.7000 - val_loss: 1.1962 - val_accuracy: 0.6079\n",
            "Epoch 36/100\n",
            "10/10 [==============================] - ETA: 0s - loss: 0.8568 - accuracy: 0.6800\n",
            "Epoch 36: accuracy did not improve from 0.76000\n",
            "10/10 [==============================] - 24s 3s/step - loss: 0.8568 - accuracy: 0.6800 - val_loss: 0.9431 - val_accuracy: 0.6613\n",
            "Epoch 37/100\n",
            "10/10 [==============================] - ETA: 0s - loss: 0.6196 - accuracy: 0.7200\n",
            "Epoch 37: accuracy did not improve from 0.76000\n",
            "10/10 [==============================] - 25s 3s/step - loss: 0.6196 - accuracy: 0.7200 - val_loss: 0.8411 - val_accuracy: 0.7007\n",
            "Epoch 38/100\n",
            "10/10 [==============================] - ETA: 0s - loss: 1.1160 - accuracy: 0.6600\n",
            "Epoch 38: accuracy did not improve from 0.76000\n",
            "10/10 [==============================] - 25s 3s/step - loss: 1.1160 - accuracy: 0.6600 - val_loss: 0.9029 - val_accuracy: 0.6914\n",
            "Epoch 39/100\n",
            "10/10 [==============================] - ETA: 0s - loss: 0.8687 - accuracy: 0.7000\n",
            "Epoch 39: accuracy did not improve from 0.76000\n",
            "10/10 [==============================] - 24s 3s/step - loss: 0.8687 - accuracy: 0.7000 - val_loss: 0.8043 - val_accuracy: 0.6984\n",
            "Epoch 40/100\n",
            "10/10 [==============================] - ETA: 0s - loss: 1.1350 - accuracy: 0.6667\n",
            "Epoch 40: accuracy did not improve from 0.76000\n",
            "10/10 [==============================] - 25s 3s/step - loss: 1.1350 - accuracy: 0.6667 - val_loss: 1.4526 - val_accuracy: 0.5545\n",
            "Epoch 41/100\n",
            "10/10 [==============================] - ETA: 0s - loss: 0.5295 - accuracy: 0.7800\n",
            "Epoch 41: accuracy improved from 0.76000 to 0.78000, saving model to ./best_model.keras\n",
            "10/10 [==============================] - 27s 3s/step - loss: 0.5295 - accuracy: 0.7800 - val_loss: 0.8574 - val_accuracy: 0.7169\n",
            "Epoch 42/100\n",
            "10/10 [==============================] - ETA: 0s - loss: 1.3099 - accuracy: 0.7000\n",
            "Epoch 42: accuracy did not improve from 0.78000\n",
            "10/10 [==============================] - 22s 2s/step - loss: 1.3099 - accuracy: 0.7000 - val_loss: 0.7573 - val_accuracy: 0.7146\n",
            "Epoch 43/100\n",
            "10/10 [==============================] - ETA: 0s - loss: 0.7168 - accuracy: 0.7600\n",
            "Epoch 43: accuracy did not improve from 0.78000\n",
            "10/10 [==============================] - 24s 3s/step - loss: 0.7168 - accuracy: 0.7600 - val_loss: 0.8590 - val_accuracy: 0.6961\n",
            "Epoch 44/100\n",
            "10/10 [==============================] - ETA: 0s - loss: 0.5822 - accuracy: 0.8000\n",
            "Epoch 44: accuracy improved from 0.78000 to 0.80000, saving model to ./best_model.keras\n",
            "10/10 [==============================] - 26s 3s/step - loss: 0.5822 - accuracy: 0.8000 - val_loss: 0.8451 - val_accuracy: 0.7355\n",
            "Epoch 45/100\n",
            "10/10 [==============================] - ETA: 0s - loss: 0.9284 - accuracy: 0.7000\n",
            "Epoch 45: accuracy did not improve from 0.80000\n",
            "10/10 [==============================] - 25s 3s/step - loss: 0.9284 - accuracy: 0.7000 - val_loss: 0.8791 - val_accuracy: 0.7030\n",
            "Epoch 46/100\n",
            "10/10 [==============================] - ETA: 0s - loss: 0.8523 - accuracy: 0.6600\n",
            "Epoch 46: accuracy did not improve from 0.80000\n",
            "10/10 [==============================] - 24s 3s/step - loss: 0.8523 - accuracy: 0.6600 - val_loss: 0.9237 - val_accuracy: 0.7239\n",
            "Epoch 47/100\n",
            "10/10 [==============================] - ETA: 0s - loss: 0.9366 - accuracy: 0.7400\n",
            "Epoch 47: accuracy did not improve from 0.80000\n",
            "10/10 [==============================] - 24s 3s/step - loss: 0.9366 - accuracy: 0.7400 - val_loss: 0.7874 - val_accuracy: 0.7332\n",
            "Epoch 48/100\n",
            "10/10 [==============================] - ETA: 0s - loss: 0.9373 - accuracy: 0.7200\n",
            "Epoch 48: accuracy did not improve from 0.80000\n",
            "10/10 [==============================] - 24s 3s/step - loss: 0.9373 - accuracy: 0.7200 - val_loss: 0.7323 - val_accuracy: 0.7332\n",
            "Epoch 49/100\n",
            "10/10 [==============================] - ETA: 0s - loss: 0.9745 - accuracy: 0.7200\n",
            "Epoch 49: accuracy did not improve from 0.80000\n",
            "10/10 [==============================] - 25s 3s/step - loss: 0.9745 - accuracy: 0.7200 - val_loss: 0.8511 - val_accuracy: 0.7030\n",
            "Epoch 50/100\n",
            "10/10 [==============================] - ETA: 0s - loss: 0.9242 - accuracy: 0.6600\n",
            "Epoch 50: accuracy did not improve from 0.80000\n",
            "10/10 [==============================] - 23s 3s/step - loss: 0.9242 - accuracy: 0.6600 - val_loss: 1.0890 - val_accuracy: 0.6125\n",
            "Epoch 51/100\n",
            "10/10 [==============================] - ETA: 0s - loss: 0.9586 - accuracy: 0.6600\n",
            "Epoch 51: accuracy did not improve from 0.80000\n",
            "10/10 [==============================] - 22s 2s/step - loss: 0.9586 - accuracy: 0.6600 - val_loss: 0.8335 - val_accuracy: 0.7007\n",
            "Epoch 52/100\n",
            "10/10 [==============================] - ETA: 0s - loss: 0.9452 - accuracy: 0.6400\n",
            "Epoch 52: accuracy did not improve from 0.80000\n",
            "10/10 [==============================] - 23s 3s/step - loss: 0.9452 - accuracy: 0.6400 - val_loss: 0.9418 - val_accuracy: 0.6961\n",
            "Epoch 53/100\n",
            "10/10 [==============================] - ETA: 0s - loss: 0.9075 - accuracy: 0.6600\n",
            "Epoch 53: accuracy did not improve from 0.80000\n",
            "10/10 [==============================] - 23s 3s/step - loss: 0.9075 - accuracy: 0.6600 - val_loss: 0.8984 - val_accuracy: 0.7053\n",
            "Epoch 54/100\n",
            "10/10 [==============================] - ETA: 0s - loss: 0.8011 - accuracy: 0.7200\n",
            "Epoch 54: accuracy did not improve from 0.80000\n",
            "10/10 [==============================] - 23s 3s/step - loss: 0.8011 - accuracy: 0.7200 - val_loss: 1.0157 - val_accuracy: 0.6752\n",
            "Epoch 55/100\n",
            "10/10 [==============================] - ETA: 0s - loss: 0.8891 - accuracy: 0.7200\n",
            "Epoch 55: accuracy did not improve from 0.80000\n",
            "10/10 [==============================] - 23s 3s/step - loss: 0.8891 - accuracy: 0.7200 - val_loss: 0.7759 - val_accuracy: 0.7007\n",
            "Epoch 56/100\n",
            "10/10 [==============================] - ETA: 0s - loss: 0.6833 - accuracy: 0.6800\n",
            "Epoch 56: accuracy did not improve from 0.80000\n",
            "10/10 [==============================] - 23s 3s/step - loss: 0.6833 - accuracy: 0.6800 - val_loss: 0.7590 - val_accuracy: 0.7425\n",
            "Epoch 57/100\n",
            "10/10 [==============================] - ETA: 0s - loss: 1.0570 - accuracy: 0.7000\n",
            "Epoch 57: accuracy did not improve from 0.80000\n",
            "10/10 [==============================] - 24s 3s/step - loss: 1.0570 - accuracy: 0.7000 - val_loss: 0.9330 - val_accuracy: 0.7053\n",
            "Epoch 58/100\n",
            "10/10 [==============================] - ETA: 0s - loss: 0.8538 - accuracy: 0.6458\n",
            "Epoch 58: accuracy did not improve from 0.80000\n",
            "10/10 [==============================] - 25s 3s/step - loss: 0.8538 - accuracy: 0.6458 - val_loss: 0.7998 - val_accuracy: 0.7378\n",
            "Epoch 59/100\n",
            "10/10 [==============================] - ETA: 0s - loss: 0.7977 - accuracy: 0.7800\n",
            "Epoch 59: accuracy did not improve from 0.80000\n",
            "10/10 [==============================] - 23s 3s/step - loss: 0.7977 - accuracy: 0.7800 - val_loss: 0.8479 - val_accuracy: 0.7285\n",
            "Epoch 60/100\n",
            "10/10 [==============================] - ETA: 0s - loss: 0.8883 - accuracy: 0.7200\n",
            "Epoch 60: accuracy did not improve from 0.80000\n",
            "10/10 [==============================] - 24s 3s/step - loss: 0.8883 - accuracy: 0.7200 - val_loss: 0.7799 - val_accuracy: 0.7053\n",
            "Epoch 61/100\n",
            "10/10 [==============================] - ETA: 0s - loss: 0.7553 - accuracy: 0.7400\n",
            "Epoch 61: accuracy did not improve from 0.80000\n",
            "10/10 [==============================] - 23s 3s/step - loss: 0.7553 - accuracy: 0.7400 - val_loss: 0.8776 - val_accuracy: 0.7030\n",
            "Epoch 62/100\n",
            "10/10 [==============================] - ETA: 0s - loss: 0.7365 - accuracy: 0.7000\n",
            "Epoch 62: accuracy did not improve from 0.80000\n",
            "10/10 [==============================] - 24s 3s/step - loss: 0.7365 - accuracy: 0.7000 - val_loss: 1.2432 - val_accuracy: 0.6729\n",
            "Epoch 63/100\n",
            "10/10 [==============================] - ETA: 0s - loss: 1.0705 - accuracy: 0.6600\n",
            "Epoch 63: accuracy did not improve from 0.80000\n",
            "10/10 [==============================] - 23s 3s/step - loss: 1.0705 - accuracy: 0.6600 - val_loss: 1.0608 - val_accuracy: 0.7030\n",
            "Epoch 64/100\n",
            "10/10 [==============================] - ETA: 0s - loss: 0.9051 - accuracy: 0.6600\n",
            "Epoch 64: accuracy did not improve from 0.80000\n",
            "10/10 [==============================] - 24s 3s/step - loss: 0.9051 - accuracy: 0.6600 - val_loss: 0.8316 - val_accuracy: 0.7355\n",
            "Epoch 65/100\n",
            "10/10 [==============================] - ETA: 0s - loss: 0.5050 - accuracy: 0.8600\n",
            "Epoch 65: accuracy improved from 0.80000 to 0.86000, saving model to ./best_model.keras\n",
            "10/10 [==============================] - 26s 3s/step - loss: 0.5050 - accuracy: 0.8600 - val_loss: 0.8016 - val_accuracy: 0.7610\n",
            "Epoch 66/100\n",
            "10/10 [==============================] - ETA: 0s - loss: 0.9736 - accuracy: 0.7600\n",
            "Epoch 66: accuracy did not improve from 0.86000\n",
            "10/10 [==============================] - 24s 3s/step - loss: 0.9736 - accuracy: 0.7600 - val_loss: 1.0518 - val_accuracy: 0.6775\n",
            "Epoch 67/100\n",
            "10/10 [==============================] - ETA: 0s - loss: 0.6427 - accuracy: 0.7800\n",
            "Epoch 67: accuracy did not improve from 0.86000\n",
            "10/10 [==============================] - 23s 3s/step - loss: 0.6427 - accuracy: 0.7800 - val_loss: 0.8578 - val_accuracy: 0.7216\n",
            "Epoch 68/100\n",
            "10/10 [==============================] - ETA: 0s - loss: 1.0469 - accuracy: 0.8200\n",
            "Epoch 68: accuracy did not improve from 0.86000\n",
            "10/10 [==============================] - 23s 2s/step - loss: 1.0469 - accuracy: 0.8200 - val_loss: 0.8748 - val_accuracy: 0.6961\n",
            "Epoch 69/100\n",
            "10/10 [==============================] - ETA: 0s - loss: 0.8529 - accuracy: 0.7200\n",
            "Epoch 69: accuracy did not improve from 0.86000\n",
            "10/10 [==============================] - 23s 3s/step - loss: 0.8529 - accuracy: 0.7200 - val_loss: 0.8588 - val_accuracy: 0.7216\n",
            "Epoch 70/100\n",
            "10/10 [==============================] - ETA: 0s - loss: 0.6311 - accuracy: 0.7800\n",
            "Epoch 70: accuracy did not improve from 0.86000\n",
            "10/10 [==============================] - 22s 2s/step - loss: 0.6311 - accuracy: 0.7800 - val_loss: 0.9567 - val_accuracy: 0.7355\n",
            "Epoch 71/100\n",
            "10/10 [==============================] - ETA: 0s - loss: 1.0245 - accuracy: 0.7000\n",
            "Epoch 71: accuracy did not improve from 0.86000\n",
            "10/10 [==============================] - 22s 2s/step - loss: 1.0245 - accuracy: 0.7000 - val_loss: 1.0928 - val_accuracy: 0.6589\n",
            "Epoch 72/100\n",
            "10/10 [==============================] - ETA: 0s - loss: 0.8584 - accuracy: 0.7200\n",
            "Epoch 72: accuracy did not improve from 0.86000\n",
            "10/10 [==============================] - 23s 2s/step - loss: 0.8584 - accuracy: 0.7200 - val_loss: 0.7001 - val_accuracy: 0.7401\n",
            "Epoch 73/100\n",
            "10/10 [==============================] - ETA: 0s - loss: 0.7244 - accuracy: 0.7600\n",
            "Epoch 73: accuracy did not improve from 0.86000\n",
            "10/10 [==============================] - 23s 3s/step - loss: 0.7244 - accuracy: 0.7600 - val_loss: 1.0573 - val_accuracy: 0.6961\n",
            "Epoch 74/100\n",
            "10/10 [==============================] - ETA: 0s - loss: 0.6326 - accuracy: 0.8000\n",
            "Epoch 74: accuracy did not improve from 0.86000\n",
            "10/10 [==============================] - 23s 2s/step - loss: 0.6326 - accuracy: 0.8000 - val_loss: 1.0888 - val_accuracy: 0.6961\n",
            "Epoch 75/100\n",
            "10/10 [==============================] - ETA: 0s - loss: 0.8814 - accuracy: 0.7600\n",
            "Epoch 75: accuracy did not improve from 0.86000\n",
            "10/10 [==============================] - 22s 2s/step - loss: 0.8814 - accuracy: 0.7600 - val_loss: 1.2293 - val_accuracy: 0.6404\n",
            "Epoch 76/100\n",
            "10/10 [==============================] - ETA: 0s - loss: 0.4830 - accuracy: 0.8200\n",
            "Epoch 76: accuracy did not improve from 0.86000\n",
            "10/10 [==============================] - 23s 2s/step - loss: 0.4830 - accuracy: 0.8200 - val_loss: 0.8711 - val_accuracy: 0.7541\n",
            "Epoch 77/100\n",
            "10/10 [==============================] - ETA: 0s - loss: 0.6129 - accuracy: 0.8000\n",
            "Epoch 77: accuracy did not improve from 0.86000\n",
            "10/10 [==============================] - 22s 2s/step - loss: 0.6129 - accuracy: 0.8000 - val_loss: 0.8866 - val_accuracy: 0.7262\n",
            "Epoch 78/100\n",
            "10/10 [==============================] - ETA: 0s - loss: 0.6270 - accuracy: 0.7800\n",
            "Epoch 78: accuracy did not improve from 0.86000\n",
            "10/10 [==============================] - 22s 2s/step - loss: 0.6270 - accuracy: 0.7800 - val_loss: 1.1173 - val_accuracy: 0.7077\n",
            "Epoch 79/100\n",
            "10/10 [==============================] - ETA: 0s - loss: 0.6415 - accuracy: 0.7800\n",
            "Epoch 79: accuracy did not improve from 0.86000\n",
            "10/10 [==============================] - 22s 2s/step - loss: 0.6415 - accuracy: 0.7800 - val_loss: 0.9314 - val_accuracy: 0.7169\n",
            "Epoch 80/100\n",
            "10/10 [==============================] - ETA: 0s - loss: 0.9636 - accuracy: 0.6200\n",
            "Epoch 80: accuracy did not improve from 0.86000\n",
            "10/10 [==============================] - 23s 2s/step - loss: 0.9636 - accuracy: 0.6200 - val_loss: 0.9460 - val_accuracy: 0.7169\n",
            "Epoch 81/100\n",
            "10/10 [==============================] - ETA: 0s - loss: 0.7451 - accuracy: 0.8000\n",
            "Epoch 81: accuracy did not improve from 0.86000\n",
            "10/10 [==============================] - 22s 2s/step - loss: 0.7451 - accuracy: 0.8000 - val_loss: 1.2586 - val_accuracy: 0.6404\n",
            "Epoch 82/100\n",
            "10/10 [==============================] - ETA: 0s - loss: 0.7409 - accuracy: 0.6800\n",
            "Epoch 82: accuracy did not improve from 0.86000\n",
            "10/10 [==============================] - 22s 2s/step - loss: 0.7409 - accuracy: 0.6800 - val_loss: 1.1212 - val_accuracy: 0.6984\n",
            "Epoch 83/100\n",
            "10/10 [==============================] - ETA: 0s - loss: 0.9088 - accuracy: 0.7200\n",
            "Epoch 83: accuracy did not improve from 0.86000\n",
            "10/10 [==============================] - 22s 2s/step - loss: 0.9088 - accuracy: 0.7200 - val_loss: 0.7927 - val_accuracy: 0.7517\n",
            "Epoch 84/100\n",
            "10/10 [==============================] - ETA: 0s - loss: 0.9994 - accuracy: 0.6400\n",
            "Epoch 84: accuracy did not improve from 0.86000\n",
            "10/10 [==============================] - 22s 2s/step - loss: 0.9994 - accuracy: 0.6400 - val_loss: 0.8323 - val_accuracy: 0.7239\n",
            "Epoch 85/100\n",
            "10/10 [==============================] - ETA: 0s - loss: 0.4810 - accuracy: 0.8200\n",
            "Epoch 85: accuracy did not improve from 0.86000\n",
            "10/10 [==============================] - 22s 2s/step - loss: 0.4810 - accuracy: 0.8200 - val_loss: 0.9773 - val_accuracy: 0.7053\n",
            "Epoch 86/100\n",
            "10/10 [==============================] - ETA: 0s - loss: 0.7754 - accuracy: 0.7000\n",
            "Epoch 86: accuracy did not improve from 0.86000\n",
            "10/10 [==============================] - 22s 2s/step - loss: 0.7754 - accuracy: 0.7000 - val_loss: 1.2955 - val_accuracy: 0.6404\n",
            "Epoch 87/100\n",
            "10/10 [==============================] - ETA: 0s - loss: 0.6776 - accuracy: 0.7400\n",
            "Epoch 87: accuracy did not improve from 0.86000\n",
            "10/10 [==============================] - 22s 2s/step - loss: 0.6776 - accuracy: 0.7400 - val_loss: 0.8538 - val_accuracy: 0.7401\n",
            "Epoch 88/100\n",
            "10/10 [==============================] - ETA: 0s - loss: 0.7171 - accuracy: 0.7200\n",
            "Epoch 88: accuracy did not improve from 0.86000\n",
            "10/10 [==============================] - 23s 3s/step - loss: 0.7171 - accuracy: 0.7200 - val_loss: 1.5160 - val_accuracy: 0.6404\n",
            "Epoch 89/100\n",
            "10/10 [==============================] - ETA: 0s - loss: 0.5190 - accuracy: 0.8400\n",
            "Epoch 89: accuracy did not improve from 0.86000\n",
            "10/10 [==============================] - 22s 2s/step - loss: 0.5190 - accuracy: 0.8400 - val_loss: 0.7704 - val_accuracy: 0.7564\n",
            "Epoch 90/100\n",
            "10/10 [==============================] - ETA: 0s - loss: 0.5463 - accuracy: 0.7600\n",
            "Epoch 90: accuracy did not improve from 0.86000\n",
            "10/10 [==============================] - 22s 2s/step - loss: 0.5463 - accuracy: 0.7600 - val_loss: 0.7852 - val_accuracy: 0.7285\n",
            "Epoch 91/100\n",
            "10/10 [==============================] - ETA: 0s - loss: 0.8927 - accuracy: 0.6800\n",
            "Epoch 91: accuracy did not improve from 0.86000\n",
            "10/10 [==============================] - 22s 2s/step - loss: 0.8927 - accuracy: 0.6800 - val_loss: 1.0964 - val_accuracy: 0.6984\n",
            "Epoch 92/100\n",
            "10/10 [==============================] - ETA: 0s - loss: 0.6651 - accuracy: 0.7200\n",
            "Epoch 92: accuracy did not improve from 0.86000\n",
            "10/10 [==============================] - 21s 2s/step - loss: 0.6651 - accuracy: 0.7200 - val_loss: 1.1202 - val_accuracy: 0.7077\n",
            "Epoch 93/100\n",
            "10/10 [==============================] - ETA: 0s - loss: 0.7434 - accuracy: 0.7200\n",
            "Epoch 93: accuracy did not improve from 0.86000\n",
            "10/10 [==============================] - 23s 3s/step - loss: 0.7434 - accuracy: 0.7200 - val_loss: 0.8504 - val_accuracy: 0.7378\n",
            "Epoch 94/100\n",
            "10/10 [==============================] - ETA: 0s - loss: 0.8346 - accuracy: 0.7800\n",
            "Epoch 94: accuracy did not improve from 0.86000\n",
            "10/10 [==============================] - 22s 2s/step - loss: 0.8346 - accuracy: 0.7800 - val_loss: 0.7546 - val_accuracy: 0.7355\n",
            "Epoch 95/100\n",
            "10/10 [==============================] - ETA: 0s - loss: 0.6228 - accuracy: 0.7400\n",
            "Epoch 95: accuracy did not improve from 0.86000\n",
            "10/10 [==============================] - 22s 2s/step - loss: 0.6228 - accuracy: 0.7400 - val_loss: 1.0480 - val_accuracy: 0.7169\n",
            "Epoch 96/100\n",
            "10/10 [==============================] - ETA: 0s - loss: 0.8184 - accuracy: 0.6800\n",
            "Epoch 96: accuracy did not improve from 0.86000\n",
            "10/10 [==============================] - 21s 2s/step - loss: 0.8184 - accuracy: 0.6800 - val_loss: 1.0654 - val_accuracy: 0.6682\n",
            "Epoch 97/100\n",
            "10/10 [==============================] - ETA: 0s - loss: 0.8658 - accuracy: 0.7000\n",
            "Epoch 97: accuracy did not improve from 0.86000\n",
            "10/10 [==============================] - 22s 2s/step - loss: 0.8658 - accuracy: 0.7000 - val_loss: 0.7542 - val_accuracy: 0.7657\n",
            "Epoch 98/100\n",
            "10/10 [==============================] - ETA: 0s - loss: 1.0385 - accuracy: 0.6800\n",
            "Epoch 98: accuracy did not improve from 0.86000\n",
            "10/10 [==============================] - 23s 2s/step - loss: 1.0385 - accuracy: 0.6800 - val_loss: 0.7405 - val_accuracy: 0.7494\n",
            "Epoch 99/100\n",
            "10/10 [==============================] - ETA: 0s - loss: 0.3234 - accuracy: 0.8800\n",
            "Epoch 99: accuracy improved from 0.86000 to 0.88000, saving model to ./best_model.keras\n",
            "10/10 [==============================] - 24s 3s/step - loss: 0.3234 - accuracy: 0.8800 - val_loss: 0.8549 - val_accuracy: 0.7239\n",
            "Epoch 100/100\n",
            "10/10 [==============================] - ETA: 0s - loss: 0.9605 - accuracy: 0.6800\n",
            "Epoch 100: accuracy did not improve from 0.88000\n",
            "10/10 [==============================] - 21s 2s/step - loss: 0.9605 - accuracy: 0.6800 - val_loss: 0.8108 - val_accuracy: 0.7401\n",
            "Training completed in time:  0:55:08.443456\n"
          ]
        }
      ]
    },
    {
      "cell_type": "code",
      "source": [
        "%tensorboard --logdir logs/fit"
      ],
      "metadata": {
        "id": "wdLf3eOyK8mv"
      },
      "execution_count": null,
      "outputs": []
    },
    {
      "cell_type": "code",
      "source": [],
      "metadata": {
        "id": "Sh9GP_VPK8o6"
      },
      "execution_count": null,
      "outputs": []
    },
    {
      "cell_type": "code",
      "source": [],
      "metadata": {
        "id": "xwrw_UcbK8rK"
      },
      "execution_count": null,
      "outputs": []
    },
    {
      "cell_type": "code",
      "source": [],
      "metadata": {
        "id": "xbCpWWBYK8ti"
      },
      "execution_count": null,
      "outputs": []
    },
    {
      "cell_type": "code",
      "source": [],
      "metadata": {
        "id": "0RMvuXatK8wc"
      },
      "execution_count": null,
      "outputs": []
    },
    {
      "cell_type": "code",
      "source": [],
      "metadata": {
        "id": "x-DmBQqiK8yP"
      },
      "execution_count": null,
      "outputs": []
    },
    {
      "cell_type": "code",
      "source": [],
      "metadata": {
        "id": "CEd3-cxdK80y"
      },
      "execution_count": null,
      "outputs": []
    },
    {
      "cell_type": "code",
      "source": [],
      "metadata": {
        "id": "AbEh_acSK83Z"
      },
      "execution_count": null,
      "outputs": []
    },
    {
      "cell_type": "code",
      "source": [],
      "metadata": {
        "id": "-s1HETuDK85s"
      },
      "execution_count": null,
      "outputs": []
    },
    {
      "cell_type": "code",
      "source": [],
      "metadata": {
        "id": "H2By663nK871"
      },
      "execution_count": null,
      "outputs": []
    },
    {
      "cell_type": "code",
      "source": [],
      "metadata": {
        "id": "yvKfnGXvK8-S"
      },
      "execution_count": null,
      "outputs": []
    }
  ]
}